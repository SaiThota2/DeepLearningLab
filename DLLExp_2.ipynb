{
  "nbformat": 4,
  "nbformat_minor": 0,
  "metadata": {
    "colab": {
      "provenance": [],
      "authorship_tag": "ABX9TyMwZIbT70oG3mLExIlN5EmR",
      "include_colab_link": true
    },
    "kernelspec": {
      "name": "python3",
      "display_name": "Python 3"
    },
    "language_info": {
      "name": "python"
    }
  },
  "cells": [
    {
      "cell_type": "markdown",
      "metadata": {
        "id": "view-in-github",
        "colab_type": "text"
      },
      "source": [
        "<a href=\"https://colab.research.google.com/github/SaiThota2/DeepLearningLab/blob/main/DLLExp_2.ipynb\" target=\"_parent\"><img src=\"https://colab.research.google.com/assets/colab-badge.svg\" alt=\"Open In Colab\"/></a>"
      ]
    },
    {
      "cell_type": "code",
      "execution_count": 1,
      "metadata": {
        "id": "85SFi6-uvR93"
      },
      "outputs": [],
      "source": [
        "import numpy as np\n",
        "import random\n",
        "import sys"
      ]
    },
    {
      "cell_type": "code",
      "source": [
        "# [(inputs), expected output]\n",
        "and_gate = [\n",
        "\n",
        "    [(1, 1), 1],\n",
        "    [(1, -1), -1],\n",
        "    [(-1, 1), -1],\n",
        "    [(-1, -1), -1]\n",
        "]"
      ],
      "metadata": {
        "id": "4yibvrzuv8pN"
      },
      "execution_count": 2,
      "outputs": []
    },
    {
      "cell_type": "code",
      "source": [
        "or_gate = [\n",
        "    [(1, 1), 1],\n",
        "    [(1, -1), 1],\n",
        "    [(-1, 1), 1],\n",
        "    [(-1, -1), -1]\n",
        "]"
      ],
      "metadata": {
        "id": "IbrolFahv8eV"
      },
      "execution_count": 3,
      "outputs": []
    },
    {
      "cell_type": "code",
      "source": [
        "def activation_function(x):\n",
        "    if x > 0:\n",
        "        return 1\n",
        "    elif x < 0:\n",
        "        return -1"
      ],
      "metadata": {
        "id": "zQ1VWs1Dv8Um"
      },
      "execution_count": 4,
      "outputs": []
    },
    {
      "cell_type": "code",
      "source": [
        "def run_perceptron(gate):\n",
        "    bias = (1,)\n",
        "    learning_constant = 0.1\n",
        "    n = 50\n",
        "\n",
        "    weights = []\n",
        "\n",
        "\n",
        "    for i in range(3):\n",
        "        weights.append(random.uniform(-1, 1))\n",
        "\n",
        "    for i in range(n):\n",
        "        inputs, expected_output = random.choice(gate)\n",
        "        inputs = inputs + bias\n",
        "        weighted_sum = np.dot(inputs, weights)\n",
        "        guess = activation_function(weighted_sum)\n",
        "        error = expected_output - guess\n",
        "        weights += learning_constant * error * np.asarray(inputs)\n",
        "    inputs, expected_output = random.choice(gate)\n",
        "    print(\"inputs: \" + str(inputs))\n",
        "    inputs = inputs + bias\n",
        "    weighted_sum = np.dot(inputs, weights)\n",
        "    print(\"weighted sum: \" + str(weighted_sum))\n",
        "    print(\"correct answer: \" + str(expected_output))\n",
        "    print(\"perceptron guess: \" + str(activation_function(weighted_sum)) + '\\n')\n"
      ],
      "metadata": {
        "id": "OIHoYAP5v8Jr"
      },
      "execution_count": 5,
      "outputs": []
    },
    {
      "cell_type": "code",
      "source": [
        "tests=2\n",
        "for i in range(tests):\n",
        "    print(\"// AND //\")\n",
        "    run_perceptron(and_gate)\n",
        "\n",
        "    print(\"// OR //\")\n",
        "    run_perceptron(or_gate)"
      ],
      "metadata": {
        "colab": {
          "base_uri": "https://localhost:8080/"
        },
        "id": "ybG9KSdHwEdC",
        "outputId": "453cb37a-9f8d-42ad-b191-d6867d36c3e1"
      },
      "execution_count": 6,
      "outputs": [
        {
          "output_type": "stream",
          "name": "stdout",
          "text": [
            "// AND //\n",
            "inputs: (-1, -1)\n",
            "weighted sum: -1.4630769595509403\n",
            "correct answer: -1\n",
            "perceptron guess: -1\n",
            "\n",
            "// OR //\n",
            "inputs: (1, 1)\n",
            "weighted sum: 1.1498782944857713\n",
            "correct answer: 1\n",
            "perceptron guess: 1\n",
            "\n",
            "// AND //\n",
            "inputs: (-1, 1)\n",
            "weighted sum: -0.4059206633475845\n",
            "correct answer: -1\n",
            "perceptron guess: -1\n",
            "\n",
            "// OR //\n",
            "inputs: (1, 1)\n",
            "weighted sum: 0.4510567691392585\n",
            "correct answer: 1\n",
            "perceptron guess: 1\n",
            "\n"
          ]
        }
      ]
    },
    {
      "cell_type": "code",
      "source": [],
      "metadata": {
        "id": "1mE8zyV1wEZs"
      },
      "execution_count": 6,
      "outputs": []
    },
    {
      "cell_type": "code",
      "source": [],
      "metadata": {
        "id": "OGT4MAnCwEXk"
      },
      "execution_count": 6,
      "outputs": []
    },
    {
      "cell_type": "code",
      "source": [],
      "metadata": {
        "id": "b782aKYQwEVg"
      },
      "execution_count": 6,
      "outputs": []
    },
    {
      "cell_type": "code",
      "source": [],
      "metadata": {
        "id": "EbS2_Z6PwES_"
      },
      "execution_count": 6,
      "outputs": []
    }
  ]
}